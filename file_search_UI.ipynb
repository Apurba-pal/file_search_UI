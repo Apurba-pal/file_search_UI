{
 "cells": [
  {
   "cell_type": "markdown",
   "id": "4e838b32",
   "metadata": {},
   "source": [
    "Imports & App Setup"
   ]
  },
  {
   "cell_type": "code",
   "execution_count": 3,
   "id": "5f800fd4",
   "metadata": {},
   "outputs": [],
   "source": [
    "import customtkinter as ctk\n",
    "import tkinter.filedialog as fd\n",
    "import os\n",
    "\n",
    "\n",
    "ctk.set_appearance_mode(\"dark\")\n",
    "ctk.set_default_color_theme(\"blue\")\n",
    "app = ctk.CTk()\n",
    "app.title(\"Smart File Upload System\")\n",
    "app.geometry(\"1200x700\")\n",
    "\n",
    "# File lists\n",
    "file_list = []\n",
    "submitted_files = []"
   ]
  },
  {
   "cell_type": "markdown",
   "id": "394fdd11",
   "metadata": {},
   "source": [
    "Sidebar UI"
   ]
  },
  {
   "cell_type": "code",
   "execution_count": 4,
   "id": "fc6a4a0d",
   "metadata": {},
   "outputs": [],
   "source": [
    "# --- Sidebar ---\n",
    "sidebar = ctk.CTkFrame(app, width=150)\n",
    "sidebar.pack(side=\"left\", fill=\"y\")\n",
    "\n",
    "file_button = ctk.CTkButton(sidebar, text=\"File\")\n",
    "file_button.pack(pady=10)\n",
    "\n",
    "search_button = ctk.CTkButton(sidebar, text=\"Search\")\n",
    "search_button.pack(pady=10)\n",
    "\n",
    "collapse_button = ctk.CTkButton(sidebar, text=\"Collapse\")\n",
    "collapse_button.pack(side=\"bottom\", pady=10)"
   ]
  },
  {
   "cell_type": "markdown",
   "id": "9be6a069",
   "metadata": {},
   "source": [
    "Main Frame and File List UI"
   ]
  },
  {
   "cell_type": "code",
   "execution_count": 5,
   "id": "ab75b43f",
   "metadata": {},
   "outputs": [],
   "source": [
    "# --- Main Content ---\n",
    "main_frame = ctk.CTkFrame(app)\n",
    "main_frame.pack(side=\"left\", fill=\"both\", expand=True)\n",
    "\n",
    "# Container frame for file listbox and add button (horizontal layout)\n",
    "file_add_frame = ctk.CTkFrame(main_frame)\n",
    "file_add_frame.pack(padx=10, pady=(10, 0), fill=\"x\")\n",
    "\n",
    "# --- File list display (Read-only Textbox) ---\n",
    "file_listbox = ctk.CTkTextbox(file_add_frame, height=60, width=600)  # Adjust width as needed\n",
    "file_listbox.pack(side=\"left\", fill=\"x\", expand=True)\n",
    "file_listbox.configure(state=\"disabled\")"
   ]
  },
  {
   "cell_type": "markdown",
   "id": "a1dc872e",
   "metadata": {},
   "source": [
    "File Adding Logic and Button\n"
   ]
  },
  {
   "cell_type": "code",
   "execution_count": 6,
   "id": "b4939b95",
   "metadata": {},
   "outputs": [],
   "source": [
    "\n",
    "# --- Add Button (to pick file/folder) ---\n",
    "def add_file_or_folder():\n",
    "    path = fd.askopenfilename() or fd.askdirectory()\n",
    "    if path and path not in file_list:\n",
    "        file_list.append(path)\n",
    "        file_listbox.configure(state=\"normal\")\n",
    "        file_listbox.insert(\"end\", os.path.basename(path) + \"\\n\")\n",
    "        file_listbox.configure(state=\"disabled\")\n",
    "\n",
    "add_button = ctk.CTkButton(file_add_frame, text=\"Add File/Folder\", command=add_file_or_folder, width=150)\n",
    "add_button.pack(side=\"left\", padx=(10, 0))"
   ]
  },
  {
   "cell_type": "markdown",
   "id": "9b0e58a2",
   "metadata": {},
   "source": [
    "Dropdown and Submit Logic"
   ]
  },
  {
   "cell_type": "code",
   "execution_count": 7,
   "id": "eea73c69",
   "metadata": {},
   "outputs": [],
   "source": [
    "selected_file = ctk.StringVar()\n",
    "\n",
    "def update_dropdown():\n",
    "    menu = [os.path.basename(f) for f in submitted_files]\n",
    "    dropdown.configure(values=menu)\n",
    "    if menu:\n",
    "        dropdown.set(menu[0])\n",
    "    else:\n",
    "        dropdown.set(\"No file submitted yet\")\n",
    "\n",
    "def submit_files():\n",
    "    global submitted_files\n",
    "    submitted_files = file_list.copy()\n",
    "    update_dropdown()\n",
    "    # Clear file list display\n",
    "    file_listbox.configure(state=\"normal\")\n",
    "    file_listbox.delete(\"1.0\", \"end\")\n",
    "    file_listbox.configure(state=\"disabled\")\n",
    "    # Clear file_list for new additions\n",
    "    file_list.clear()\n",
    "\n",
    "submit_button = ctk.CTkButton(main_frame, text=\"Submit\", command=submit_files)\n",
    "submit_button.pack(padx=10, pady=(10, 0), fill=\"x\")\n",
    "\n",
    "dropdown = ctk.CTkOptionMenu(main_frame, variable=selected_file, command=lambda choice: on_file_select(choice))\n",
    "dropdown.pack(padx=10, pady=(10, 0), fill=\"x\")\n",
    "dropdown.set(\"No file submitted yet\")\n"
   ]
  },
  {
   "cell_type": "markdown",
   "id": "04437694",
   "metadata": {},
   "source": [
    "Summary & Chat UI"
   ]
  },
  {
   "cell_type": "code",
   "execution_count": 8,
   "id": "e812b9d1",
   "metadata": {},
   "outputs": [],
   "source": [
    "summary_chat_frame = ctk.CTkFrame(main_frame)\n",
    "summary_chat_frame.pack(padx=10, pady=(10, 0), fill=\"both\", expand=True)\n",
    "\n",
    "summary_box = ctk.CTkTextbox(summary_chat_frame, height=100)\n",
    "summary_box.pack(padx=5, pady=(5, 0), fill=\"x\")\n",
    "summary_box.configure(state=\"disabled\")\n",
    "\n",
    "save_button = ctk.CTkButton(summary_chat_frame, text=\"Save\")\n",
    "save_button.pack(anchor=\"ne\", padx=5, pady=5)\n",
    "\n",
    "chat_box = ctk.CTkTextbox(summary_chat_frame)\n",
    "chat_box.pack(padx=5, pady=(0, 5), fill=\"both\", expand=True)\n",
    "chat_box.configure(state=\"disabled\")\n",
    "\n",
    "chat_input_frame = ctk.CTkFrame(summary_chat_frame)\n",
    "chat_input_frame.pack(fill=\"x\", pady=(0, 10), padx=5)\n",
    "\n",
    "chat_input = ctk.CTkEntry(chat_input_frame)\n",
    "chat_input.pack(side=\"left\", fill=\"x\", expand=True, padx=(0, 10))\n"
   ]
  },
  {
   "cell_type": "markdown",
   "id": "b2b95f86",
   "metadata": {},
   "source": [
    "Chat Logic"
   ]
  },
  {
   "cell_type": "code",
   "execution_count": 9,
   "id": "e5f05489",
   "metadata": {},
   "outputs": [],
   "source": [
    "def send_chat():\n",
    "    user_msg = chat_input.get()\n",
    "    if user_msg:\n",
    "        chat_box.configure(state=\"normal\")\n",
    "        chat_box.insert(\"end\", f\"You: {user_msg}\\n\")\n",
    "        chat_box.insert(\"end\", \"AI: This is a sample response\\n\")\n",
    "        chat_box.configure(state=\"disabled\")\n",
    "        chat_input.delete(0, \"end\")\n",
    "\n",
    "send_button = ctk.CTkButton(chat_input_frame, text=\"Send\", command=send_chat)\n",
    "send_button.pack(side=\"right\")\n"
   ]
  },
  {
   "cell_type": "markdown",
   "id": "861afd12",
   "metadata": {},
   "source": [
    "Dropdown Selection Handler and Terminal"
   ]
  },
  {
   "cell_type": "code",
   "execution_count": 10,
   "id": "61466e6d",
   "metadata": {},
   "outputs": [],
   "source": [
    "def on_file_select(choice):\n",
    "    summary_box.configure(state=\"normal\")\n",
    "    summary_box.delete(\"1.0\", \"end\")\n",
    "    summary_box.insert(\"end\", f\"AI Summary of {choice}\")\n",
    "    summary_box.configure(state=\"disabled\")\n",
    "\n",
    "terminal = ctk.CTkTextbox(app)\n",
    "terminal.pack(side=\"right\", fill=\"both\", expand=True, padx=10, pady=10)\n",
    "terminal.configure(state=\"disabled\")\n"
   ]
  },
  {
   "cell_type": "markdown",
   "id": "82d2f230",
   "metadata": {},
   "source": [
    "Run the app"
   ]
  },
  {
   "cell_type": "code",
   "execution_count": null,
   "id": "95e78006",
   "metadata": {},
   "outputs": [],
   "source": [
    "app.mainloop()"
   ]
  }
 ],
 "metadata": {
  "kernelspec": {
   "display_name": "Python 3",
   "language": "python",
   "name": "python3"
  },
  "language_info": {
   "codemirror_mode": {
    "name": "ipython",
    "version": 3
   },
   "file_extension": ".py",
   "mimetype": "text/x-python",
   "name": "python",
   "nbconvert_exporter": "python",
   "pygments_lexer": "ipython3",
   "version": "3.11.0"
  }
 },
 "nbformat": 4,
 "nbformat_minor": 5
}
