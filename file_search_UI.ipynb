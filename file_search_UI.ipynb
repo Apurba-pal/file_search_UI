{
 "cells": [
  {
   "cell_type": "markdown",
   "id": "4e838b32",
   "metadata": {},
   "source": [
    "Imports & App Setup"
   ]
  },
  {
   "cell_type": "code",
   "execution_count": 33,
   "id": "5f800fd4",
   "metadata": {},
   "outputs": [],
   "source": [
    "# Cell 1: Imports and App Setup\n",
    "import customtkinter as ctk\n",
    "import tkinter.filedialog as fd\n",
    "import os\n",
    "\n",
    "ctk.set_appearance_mode(\"dark\")\n",
    "ctk.set_default_color_theme(\"blue\")\n",
    "\n",
    "app = ctk.CTk()\n",
    "app.title(\"Smart File Upload System\")\n",
    "app.geometry(\"1200x700\")\n",
    "\n",
    "# Global file lists\n",
    "file_list = []\n",
    "submitted_files = []\n"
   ]
  },
  {
   "cell_type": "markdown",
   "id": "394fdd11",
   "metadata": {},
   "source": [
    "Sidebar UI"
   ]
  },
  {
   "cell_type": "code",
   "execution_count": 34,
   "id": "fc6a4a0d",
   "metadata": {},
   "outputs": [],
   "source": [
    "# Cell 2: Sidebar creation\n",
    "sidebar = ctk.CTkFrame(app, width=150)\n",
    "sidebar.pack(side=\"left\", fill=\"y\")\n",
    "\n",
    "file_button = ctk.CTkButton(sidebar, text=\"File\")\n",
    "file_button.pack(pady=10)\n",
    "\n",
    "search_button = ctk.CTkButton(sidebar, text=\"Search\")\n",
    "search_button.pack(pady=10)\n",
    "\n",
    "collapse_button = ctk.CTkButton(sidebar, text=\"Collapse\")\n",
    "collapse_button.pack(side=\"bottom\", pady=10)\n"
   ]
  },
  {
   "cell_type": "markdown",
   "id": "9be6a069",
   "metadata": {},
   "source": [
    "Main Frame and File List UI"
   ]
  },
  {
   "cell_type": "code",
   "execution_count": 35,
   "id": "ab75b43f",
   "metadata": {},
   "outputs": [],
   "source": [
    "# Cell 3: Main frame and file add frame setup\n",
    "main_frame = ctk.CTkFrame(app)\n",
    "main_frame.pack(side=\"left\", fill=\"both\", expand=True)\n",
    "\n",
    "file_add_frame = ctk.CTkFrame(main_frame)\n",
    "file_add_frame.pack(padx=10, pady=(10, 0), fill=\"x\")\n"
   ]
  },
  {
   "cell_type": "markdown",
   "id": "a1dc872e",
   "metadata": {},
   "source": [
    "File Adding Logic and Button\n"
   ]
  },
  {
   "cell_type": "code",
   "execution_count": 36,
   "id": "b4939b95",
   "metadata": {},
   "outputs": [],
   "source": [
    "# Cell 4: File listbox display and Add File/Folder buttons\n",
    "\n",
    "file_listbox = ctk.CTkTextbox(file_add_frame, height=60, width=600)\n",
    "file_listbox.pack(side=\"left\", fill=\"x\", expand=True)\n",
    "file_listbox.configure(state=\"disabled\")\n",
    "\n",
    "def add_file():\n",
    "    path = fd.askopenfilename()\n",
    "    if path and path not in file_list:\n",
    "        file_list.append(path)\n",
    "        file_listbox.configure(state=\"normal\")\n",
    "        file_listbox.insert(\"end\", os.path.basename(path) + \"\\n\")\n",
    "        file_listbox.configure(state=\"disabled\")\n",
    "\n",
    "add_file_button = ctk.CTkButton(file_add_frame, text=\"Add File\", command=add_file, width=100)\n",
    "add_file_button.pack(side=\"left\", padx=(10, 5))\n",
    "\n",
    "def add_folder():\n",
    "    folder_path = fd.askdirectory()\n",
    "    if folder_path:\n",
    "        for root, _, files in os.walk(folder_path):\n",
    "            for file in files:\n",
    "                full_path = os.path.join(root, file)\n",
    "                if full_path not in file_list:\n",
    "                    file_list.append(full_path)\n",
    "                    file_listbox.configure(state=\"normal\")\n",
    "                    relative_path = os.path.relpath(full_path, folder_path)\n",
    "                    file_listbox.insert(\"end\", f\"{os.path.basename(folder_path)}/{relative_path}\\n\")\n",
    "                    file_listbox.configure(state=\"disabled\")\n",
    "\n",
    "add_folder_button = ctk.CTkButton(file_add_frame, text=\"Add Folder\", command=add_folder, width=100)\n",
    "add_folder_button.pack(side=\"left\")\n"
   ]
  },
  {
   "cell_type": "markdown",
   "id": "7cddc386",
   "metadata": {},
   "source": [
    "terminal display"
   ]
  },
  {
   "cell_type": "code",
   "execution_count": 37,
   "id": "1a527c54",
   "metadata": {},
   "outputs": [],
   "source": [
    "# Cell 5: Terminal textbox for log display\n",
    "terminal = ctk.CTkTextbox(app)\n",
    "terminal.pack(side=\"right\", fill=\"both\", expand=True, padx=10, pady=10)\n",
    "terminal.configure(state=\"disabled\")\n"
   ]
  },
  {
   "cell_type": "markdown",
   "id": "9b0e58a2",
   "metadata": {},
   "source": [
    "Dropdown and Submit Logic"
   ]
  },
  {
   "cell_type": "code",
   "execution_count": 38,
   "id": "eea73c69",
   "metadata": {},
   "outputs": [],
   "source": [
    "# Cell 6: Submit button and submit logic\n",
    "\n",
    "def submit_files():\n",
    "    global submitted_files\n",
    "    submitted_files = file_list.copy()\n",
    "    update_dropdown()\n",
    "\n",
    "    terminal.configure(state=\"normal\")\n",
    "    terminal.delete(\"1.0\", \"end\")\n",
    "    folder_map = {}\n",
    "\n",
    "    for path in submitted_files:\n",
    "        folder = os.path.dirname(path)\n",
    "        folder_map.setdefault(folder, []).append(path)\n",
    "\n",
    "    for folder, files in folder_map.items():\n",
    "        folder_name = os.path.basename(folder)\n",
    "        if len(files) > 1:\n",
    "            terminal.insert(\"end\", f\"Analyzing {folder_name}...\\n\")\n",
    "        for file_path in files:\n",
    "            relative = os.path.relpath(file_path, folder)\n",
    "            terminal.insert(\"end\", f\"Analyzing {folder_name}/{relative}\\n\")\n",
    "\n",
    "    terminal.configure(state=\"disabled\")\n",
    "\n",
    "    file_listbox.configure(state=\"normal\")\n",
    "    file_listbox.delete(\"1.0\", \"end\")\n",
    "    file_listbox.configure(state=\"disabled\")\n",
    "\n",
    "    file_list.clear()\n",
    "\n",
    "submit_button = ctk.CTkButton(main_frame, text=\"Submit\", command=submit_files)\n",
    "submit_button.pack(padx=10, pady=(10, 0), fill=\"x\")\n"
   ]
  },
  {
   "cell_type": "markdown",
   "id": "352d4e35",
   "metadata": {},
   "source": [
    "dropdown UI"
   ]
  },
  {
   "cell_type": "code",
   "execution_count": 39,
   "id": "5721028f",
   "metadata": {},
   "outputs": [],
   "source": [
    "# Cell 7: Dropdown for submitted files and update/select handlers\n",
    "\n",
    "selected_file = ctk.StringVar()\n",
    "\n",
    "def update_dropdown():\n",
    "    menu = [os.path.basename(f) for f in submitted_files]\n",
    "    dropdown.configure(values=menu)\n",
    "    if menu:\n",
    "        dropdown.set(menu[0])\n",
    "\n",
    "def on_file_select(choice):\n",
    "    summary_box.configure(state=\"normal\")\n",
    "    summary_box.delete(\"1.0\", \"end\")\n",
    "    summary_box.insert(\"end\", f\"AI Summary of {choice}\")\n",
    "    summary_box.configure(state=\"disabled\")\n",
    "\n",
    "dropdown = ctk.CTkOptionMenu(main_frame, variable=selected_file, command=on_file_select)\n",
    "dropdown.pack(padx=10, pady=(10, 0), fill=\"x\")\n",
    "dropdown.set(\"No file submitted yet\")\n"
   ]
  },
  {
   "cell_type": "markdown",
   "id": "04437694",
   "metadata": {},
   "source": [
    "Summary & Chat UI"
   ]
  },
  {
   "cell_type": "code",
   "execution_count": 40,
   "id": "e812b9d1",
   "metadata": {},
   "outputs": [],
   "source": [
    "# Cell 8: Summary and chat section layout\n",
    "\n",
    "summary_chat_frame = ctk.CTkFrame(main_frame)\n",
    "summary_chat_frame.pack(padx=10, pady=(10, 0), fill=\"both\", expand=True)\n",
    "\n",
    "summary_box = ctk.CTkTextbox(summary_chat_frame, height=100)\n",
    "summary_box.pack(padx=5, pady=(5, 0), fill=\"x\")\n",
    "summary_box.configure(state=\"disabled\")\n",
    "\n",
    "save_button = ctk.CTkButton(summary_chat_frame, text=\"Save\")\n",
    "save_button.pack(anchor=\"ne\", padx=5, pady=5)\n",
    "\n",
    "chat_box = ctk.CTkTextbox(summary_chat_frame)\n",
    "chat_box.pack(padx=5, pady=(0, 5), fill=\"both\", expand=True)\n",
    "chat_box.configure(state=\"disabled\")\n"
   ]
  },
  {
   "cell_type": "markdown",
   "id": "b2b95f86",
   "metadata": {},
   "source": [
    "Chat Logic"
   ]
  },
  {
   "cell_type": "code",
   "execution_count": 41,
   "id": "e5f05489",
   "metadata": {},
   "outputs": [],
   "source": [
    "# Cell 9: Chat input area and send chat logic\n",
    "\n",
    "chat_input_frame = ctk.CTkFrame(summary_chat_frame)\n",
    "chat_input_frame.pack(fill=\"x\", pady=(0, 10), padx=5)\n",
    "\n",
    "chat_input = ctk.CTkEntry(chat_input_frame)\n",
    "chat_input.pack(side=\"left\", fill=\"x\", expand=True, padx=(0, 10))\n",
    "\n",
    "def send_chat():\n",
    "    user_msg = chat_input.get()\n",
    "    if user_msg:\n",
    "        chat_box.configure(state=\"normal\")\n",
    "        chat_box.insert(\"end\", f\"You: {user_msg}\\n\")\n",
    "        chat_box.insert(\"end\", \"AI: This is a sample response\\n\")\n",
    "        chat_box.configure(state=\"disabled\")\n",
    "        chat_input.delete(0, \"end\")\n",
    "\n",
    "send_button = ctk.CTkButton(chat_input_frame, text=\"Send\", command=send_chat)\n",
    "send_button.pack(side=\"right\")\n"
   ]
  },
  {
   "cell_type": "markdown",
   "id": "82d2f230",
   "metadata": {},
   "source": [
    "Run the app"
   ]
  },
  {
   "cell_type": "code",
   "execution_count": 42,
   "id": "95e78006",
   "metadata": {},
   "outputs": [
    {
     "ename": "KeyboardInterrupt",
     "evalue": "",
     "output_type": "error",
     "traceback": [
      "\u001b[31m---------------------------------------------------------------------------\u001b[39m",
      "\u001b[31mKeyboardInterrupt\u001b[39m                         Traceback (most recent call last)",
      "\u001b[36mCell\u001b[39m\u001b[36m \u001b[39m\u001b[32mIn[42]\u001b[39m\u001b[32m, line 2\u001b[39m\n\u001b[32m      1\u001b[39m \u001b[38;5;66;03m# Cell 10: Run the app main loop\u001b[39;00m\n\u001b[32m----> \u001b[39m\u001b[32m2\u001b[39m \u001b[43mapp\u001b[49m\u001b[43m.\u001b[49m\u001b[43mmainloop\u001b[49m\u001b[43m(\u001b[49m\u001b[43m)\u001b[49m\n",
      "\u001b[36mFile \u001b[39m\u001b[32mc:\\Users\\palap\\AppData\\Local\\Programs\\Python\\Python311\\Lib\\site-packages\\customtkinter\\windows\\ctk_tk.py:165\u001b[39m, in \u001b[36mCTk.mainloop\u001b[39m\u001b[34m(self, *args, **kwargs)\u001b[39m\n\u001b[32m    161\u001b[39m             \u001b[38;5;28mself\u001b[39m.deiconify()\n\u001b[32m    163\u001b[39m     \u001b[38;5;28mself\u001b[39m._window_exists = \u001b[38;5;28;01mTrue\u001b[39;00m\n\u001b[32m--> \u001b[39m\u001b[32m165\u001b[39m \u001b[38;5;28;43msuper\u001b[39;49m\u001b[43m(\u001b[49m\u001b[43m)\u001b[49m\u001b[43m.\u001b[49m\u001b[43mmainloop\u001b[49m\u001b[43m(\u001b[49m\u001b[43m*\u001b[49m\u001b[43margs\u001b[49m\u001b[43m,\u001b[49m\u001b[43m \u001b[49m\u001b[43m*\u001b[49m\u001b[43m*\u001b[49m\u001b[43mkwargs\u001b[49m\u001b[43m)\u001b[49m\n",
      "\u001b[36mFile \u001b[39m\u001b[32mc:\\Users\\palap\\AppData\\Local\\Programs\\Python\\Python311\\Lib\\tkinter\\__init__.py:1485\u001b[39m, in \u001b[36mMisc.mainloop\u001b[39m\u001b[34m(self, n)\u001b[39m\n\u001b[32m   1483\u001b[39m \u001b[38;5;28;01mdef\u001b[39;00m\u001b[38;5;250m \u001b[39m\u001b[34mmainloop\u001b[39m(\u001b[38;5;28mself\u001b[39m, n=\u001b[32m0\u001b[39m):\n\u001b[32m   1484\u001b[39m \u001b[38;5;250m    \u001b[39m\u001b[33;03m\"\"\"Call the mainloop of Tk.\"\"\"\u001b[39;00m\n\u001b[32m-> \u001b[39m\u001b[32m1485\u001b[39m     \u001b[38;5;28;43mself\u001b[39;49m\u001b[43m.\u001b[49m\u001b[43mtk\u001b[49m\u001b[43m.\u001b[49m\u001b[43mmainloop\u001b[49m\u001b[43m(\u001b[49m\u001b[43mn\u001b[49m\u001b[43m)\u001b[49m\n",
      "\u001b[36mFile \u001b[39m\u001b[32mc:\\Users\\palap\\AppData\\Local\\Programs\\Python\\Python311\\Lib\\tkinter\\__init__.py:1943\u001b[39m, in \u001b[36mCallWrapper.__call__\u001b[39m\u001b[34m(self, *args)\u001b[39m\n\u001b[32m   1940\u001b[39m     \u001b[38;5;28mself\u001b[39m.subst = subst\n\u001b[32m   1941\u001b[39m     \u001b[38;5;28mself\u001b[39m.widget = widget\n\u001b[32m-> \u001b[39m\u001b[32m1943\u001b[39m \u001b[38;5;28;01mdef\u001b[39;00m\u001b[38;5;250m \u001b[39m\u001b[34m__call__\u001b[39m(\u001b[38;5;28mself\u001b[39m, *args):\n\u001b[32m   1944\u001b[39m \u001b[38;5;250m    \u001b[39m\u001b[33;03m\"\"\"Apply first function SUBST to arguments, than FUNC.\"\"\"\u001b[39;00m\n\u001b[32m   1945\u001b[39m     \u001b[38;5;28;01mtry\u001b[39;00m:\n",
      "\u001b[31mKeyboardInterrupt\u001b[39m: "
     ]
    }
   ],
   "source": [
    "# Cell 10: Run the app main loop\n",
    "app.mainloop()\n"
   ]
  }
 ],
 "metadata": {
  "kernelspec": {
   "display_name": "Python 3",
   "language": "python",
   "name": "python3"
  },
  "language_info": {
   "codemirror_mode": {
    "name": "ipython",
    "version": 3
   },
   "file_extension": ".py",
   "mimetype": "text/x-python",
   "name": "python",
   "nbconvert_exporter": "python",
   "pygments_lexer": "ipython3",
   "version": "3.11.0"
  }
 },
 "nbformat": 4,
 "nbformat_minor": 5
}
